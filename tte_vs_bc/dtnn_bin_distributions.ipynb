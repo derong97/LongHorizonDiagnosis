{
 "cells": [
  {
   "cell_type": "code",
   "execution_count": null,
   "metadata": {},
   "outputs": [],
   "source": [
    "from toml import load as toml_load\n",
    "import matplotlib.pyplot as plt\n",
    "import numpy as np\n",
    "\n",
    "from utils import get_df, collate\n",
    "from my_config import MyConfig\n",
    "from embedding_model.config import Config"
   ]
  },
  {
   "cell_type": "code",
   "execution_count": null,
   "metadata": {},
   "outputs": [],
   "source": [
    "config = Config(**toml_load(\"config.toml\"))\n",
    "my_config = MyConfig(**toml_load(\"my_config.toml\"))\n",
    "\n",
    "labels = list(my_config.dict().keys())\n",
    "\n",
    "model_name = \"DTNN\"\n",
    "yob_cutoff = 2020\n",
    "followup_cutoff = 0"
   ]
  },
  {
   "cell_type": "code",
   "execution_count": null,
   "metadata": {},
   "outputs": [],
   "source": [
    "fig, axes = plt.subplots(1, len(labels), figsize=(16, 4))\n",
    "for index, label in enumerate(labels):\n",
    "    print(f\"Processing {label}...\")\n",
    "    myconfig_phenotype = getattr(my_config, label)\n",
    "    config_phenotype = getattr(config.phenotypes, label)\n",
    "    num_bins = len(config_phenotype.bin_boundaries) - 1\n",
    "    model = myconfig_phenotype.load_model(model_name, yob_cutoff, followup_cutoff, num_bins)\n",
    "\n",
    "    df = get_df(\n",
    "        myconfig_phenotype.filepaths.test1422,\n",
    "        yob_cutoff,\n",
    "        followup_cutoff,\n",
    "        config_phenotype.age_cutoff,\n",
    "    )\n",
    "\n",
    "    _, _, test_predictions = collate(model, df, myconfig_phenotype.vocab, config.model.seq_threshold, label)\n",
    "    \n",
    "    pred_mean = np.mean(test_predictions, axis=0)\n",
    "    pred_lower = np.percentile(test_predictions, 2.5, axis=0)\n",
    "    pred_upper = np.percentile(test_predictions, 97.5, axis=0)\n",
    "\n",
    "    axes[index].bar(\n",
    "        np.arange(num_bins + 1),\n",
    "        np.mean(test_predictions, axis=0),\n",
    "        yerr=np.stack([\n",
    "            pred_mean - pred_lower,\n",
    "            pred_upper - pred_mean\n",
    "        ]),\n",
    "        color=myconfig_phenotype.color\n",
    "    )\n",
    "\n",
    "    axes[index].set_xlabel('Bin')\n",
    "    axes[index].set_ylabel('Predicted Event Probability')\n",
    "    axes[index].set_title(myconfig_phenotype.name)\n",
    "    axes[index].xaxis.set_ticks(np.arange(0, num_bins + 1, 1))\n",
    "\n",
    "plt.tight_layout()\n",
    "plt.show()"
   ]
  }
 ],
 "metadata": {
  "language_info": {
   "name": "python"
  }
 },
 "nbformat": 4,
 "nbformat_minor": 2
}
